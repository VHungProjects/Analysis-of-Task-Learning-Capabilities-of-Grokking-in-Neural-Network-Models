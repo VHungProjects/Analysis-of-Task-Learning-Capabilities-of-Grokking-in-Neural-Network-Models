{
 "cells": [
  {
   "cell_type": "code",
   "execution_count": 47,
   "metadata": {},
   "outputs": [],
   "source": [
    "#Import Libraries\n",
    "import torch\n",
    "import torch.nn as nn\n",
    "import torch.optim as optim\n",
    "import torchvision\n",
    "import torchvision.transforms as transforms\n",
    "import matplotlib.pyplot as plt\n",
    "import torch.nn.functional as F\n",
    "from tqdm import tqdm\n",
    "import matplotlib.pyplot as plt\n",
    "import random\n"
   ]
  },
  {
   "cell_type": "code",
   "execution_count": 48,
   "metadata": {},
   "outputs": [
    {
     "data": {
      "text/plain": [
       "True"
      ]
     },
     "execution_count": 48,
     "metadata": {},
     "output_type": "execute_result"
    }
   ],
   "source": [
    "torch.cuda.is_available()"
   ]
  },
  {
   "cell_type": "code",
   "execution_count": 49,
   "metadata": {},
   "outputs": [
    {
     "data": {
      "text/plain": [
       "1"
      ]
     },
     "execution_count": 49,
     "metadata": {},
     "output_type": "execute_result"
    }
   ],
   "source": [
    "torch.cuda.device_count()"
   ]
  },
  {
   "cell_type": "code",
   "execution_count": 50,
   "metadata": {},
   "outputs": [],
   "source": [
    "#torch.cuda.current_device()"
   ]
  },
  {
   "cell_type": "code",
   "execution_count": 51,
   "metadata": {},
   "outputs": [],
   "source": [
    "#torch.cuda.get_device_name(0)"
   ]
  },
  {
   "cell_type": "code",
   "execution_count": 52,
   "metadata": {},
   "outputs": [
    {
     "name": "stdout",
     "output_type": "stream",
     "text": [
      "4000.0\n"
     ]
    }
   ],
   "source": [
    "#Set Parameters here\n",
    "epochs = 80\n",
    "batch_size = 100\n",
    "train_points = 5000 # 60k total training examples, 10k test examples\n",
    "test_points = 5000\n",
    "lr = 0.01\n",
    "weight_decay = 0.01\n",
    "initialization_scale = 8.0\n",
    "#Optmization steps should be train_points/batchsize * epochs \n",
    "print(train_points/batch_size * epochs)\n",
    "device = torch.device('cuda:0' if torch.cuda.is_available() else 'cpu')\n"
   ]
  },
  {
   "cell_type": "code",
   "execution_count": 53,
   "metadata": {},
   "outputs": [],
   "source": [
    "def display_predictions(model, testloader, num_images=5):\n",
    "    model.eval()\n",
    "    # Randomly pick a batch of images from the testloader\n",
    "    batch = random.choice(list(testloader))\n",
    "    images, labels = batch\n",
    "    images = images.to(device)\n",
    "    labels = labels.to(device)\n",
    "    outputs = model(images)\n",
    "    _, predicted = torch.max(outputs, 1)\n",
    "\n",
    "    fig, axes = plt.subplots(1, num_images, figsize=(15, 3))\n",
    "    for i in range(num_images):\n",
    "        ax = axes[i]\n",
    "        ax.imshow(images[i].to(\"cpu\").numpy().squeeze(), cmap='gray')\n",
    "        ax.set_title(f'Pred: {predicted[i].item()}')\n",
    "        ax.axis('off')\n",
    "    plt.tight_layout()\n",
    "    plt.show()"
   ]
  },
  {
   "cell_type": "code",
   "execution_count": 54,
   "metadata": {},
   "outputs": [],
   "source": [
    "#Network Structure\n",
    "class mnistClassification(nn.Module):\n",
    "    def __init__(self):\n",
    "        super(mnistClassification, self).__init__()\n",
    "        self.flatten = nn.Flatten().to(device)\n",
    "        self.fc1 = nn.Linear(784, 200).to(device)\n",
    "        self.fc2 = nn.Linear(200, 200).to(device)\n",
    "        self.fc3 = nn.Linear(200, 10).to(device)\n",
    "\n",
    "    def forward(self, x):\n",
    "        x = self.flatten(x)\n",
    "        x = torch.relu(self.fc1(x))\n",
    "        x = torch.relu(self.fc2(x))\n",
    "        x = self.fc3(x)\n",
    "        return x\n",
    "\n",
    "model = mnistClassification().to(device)\n",
    "\n",
    "with torch.no_grad(): \n",
    "    for p in model.parameters(): \n",
    "        p.data = initialization_scale * p.data"
   ]
  },
  {
   "cell_type": "code",
   "execution_count": 55,
   "metadata": {},
   "outputs": [
    {
     "name": "stdout",
     "output_type": "stream",
     "text": [
      "50\n",
      "50\n"
     ]
    }
   ],
   "source": [
    "#Load Data set\n",
    "train = torchvision.datasets.MNIST(root='mnistdata', train=True, transform=torchvision.transforms.ToTensor(), download=True)\n",
    "test = torchvision.datasets.MNIST(root='mnistdata', train=False, transform=torchvision.transforms.ToTensor(), download=True)\n",
    "train = torch.utils.data.Subset(train, range(train_points))\n",
    "test = torch.utils.data.Subset(test, range(test_points))\n",
    "train_loader = torch.utils.data.DataLoader(train, batch_size=batch_size, shuffle=True)\n",
    "test_loader = torch.utils.data.DataLoader(test, batch_size=batch_size, shuffle=False)\n",
    "\n",
    "print(len(train_loader))\n",
    "print(len(test_loader))"
   ]
  },
  {
   "cell_type": "code",
   "execution_count": null,
   "metadata": {},
   "outputs": [
    {
     "name": "stderr",
     "output_type": "stream",
     "text": [
      "Epoch [2/80], Loss: 0.5160, Train Accuracy: 0.1600, Val Accuracy: 0.1780, Weight Norm: 153.2845:   1%|▏         | 1/80 [00:02<01:59,  1.51s/it]"
     ]
    },
    {
     "data": {
      "image/png": "[encoded data removed]",
      "text/plain": [
       "<Figure size 1500x300 with 8 Axes>"
      ]
     },
     "metadata": {},
     "output_type": "display_data"
    },
    {
     "name": "stderr",
     "output_type": "stream",
     "text": [
      "Epoch [10/80], Loss: 0.0845, Train Accuracy: 0.5200, Val Accuracy: 0.4530, Weight Norm: 147.0003:  11%|█▏        | 9/80 [00:13<01:28,  1.24s/it]"
     ]
    },
    {
     "data": {
      "image/png": "[encoded data removed]",
      "text/plain": [
       "<Figure size 1500x300 with 8 Axes>"
      ]
     },
     "metadata": {},
     "output_type": "display_data"
    },
    {
     "name": "stderr",
     "output_type": "stream",
     "text": [
      "Epoch [20/80], Loss: 0.0492, Train Accuracy: 0.8000, Val Accuracy: 0.6740, Weight Norm: 139.9353:  24%|██▍       | 19/80 [00:26<01:15,  1.24s/it]"
     ]
    },
    {
     "data": {
      "image/png": "[encoded data removed]",
      "text/plain": [
       "<Figure size 1500x300 with 8 Axes>"
      ]
     },
     "metadata": {},
     "output_type": "display_data"
    },
    {
     "name": "stderr",
     "output_type": "stream",
     "text": [
      "Epoch [27/80], Loss: 0.0438, Train Accuracy: 0.8400, Val Accuracy: 0.7396, Weight Norm: 135.3195:  34%|███▍      | 27/80 [00:35<01:10,  1.33s/it]"
     ]
    }
   ],
   "source": [
    "#Training\n",
    "\n",
    "criterion = nn.MSELoss()\n",
    "optimizer = optim.AdamW(model.parameters(), lr=lr, weight_decay=weight_decay)\n",
    "\n",
    "train_acc = []\n",
    "val_acc = []\n",
    "train_loss = []\n",
    "weight_normlist = []\n",
    "\n",
    "#Loop\n",
    "bar = tqdm(range(epochs))\n",
    "for epoch in bar:\n",
    "    model.train()\n",
    "    running_loss = 0.0\n",
    "    correct_train = 0\n",
    "    total_train = 0\n",
    "    \n",
    "    for images, labels in train_loader:\n",
    "        images = images.to(device)\n",
    "        labels = labels.to(device)\n",
    "        optimizer.zero_grad()\n",
    "        outputs = model(images)\n",
    "        labels_one_hot = F.one_hot(labels, 10).float()\n",
    "        loss = criterion(outputs, labels_one_hot)\n",
    "        loss.backward()\n",
    "        optimizer.step()\n",
    "        running_loss += loss.item()\n",
    "\n",
    "    # Calculate Train Accuracy\n",
    "    _, predicted = torch.max(outputs.data, 1)\n",
    "    correct_train += (predicted == labels).sum().item()\n",
    "    total_train += labels.size(0)\n",
    "    train_accuracy = correct_train / total_train\n",
    "    train_acc.append(train_accuracy)\n",
    "    \n",
    "    # Store loss\n",
    "    train_loss.append(loss.item())\n",
    "    \n",
    "    # Calculate Validation Accuracy\n",
    "    model.eval()\n",
    "    total = 0\n",
    "    correct = 0\n",
    "    with torch.no_grad():\n",
    "        for x, labels in test_loader:\n",
    "            x = x.to(device)\n",
    "            labels = labels.to(device)\n",
    "            y = model(x)\n",
    "            _, predicted = torch.max(y, 1)\n",
    "            correct += (predicted == labels).sum().item()\n",
    "            total += labels.size(0)\n",
    "    val_accuracy = correct / total\n",
    "    val_acc.append(val_accuracy)\n",
    "\n",
    "    # Calculate Weight Norm\n",
    "    weight_norm = sum(p.norm().item() for p in model.parameters())\n",
    "    weight_normlist.append(weight_norm)\n",
    "    \n",
    "    # Print progress\n",
    "    bar.set_description(f'Epoch [{epoch+1}/{epochs}], Loss: {loss:.4f}, Train Accuracy: {train_accuracy:.4f}, Val Accuracy: {val_accuracy:.4f}, Weight Norm: {weight_norm:.4f}')\n",
    "    \n",
    "    # Plot graph every X epochs\n",
    "    if (epoch + 1) % 20 == 0 or epoch == 1:\n",
    "        display_predictions(model, test_loader, num_images=8)\n",
    "        \n",
    "        '''\n",
    "        import matplotlib.pyplot as plt\n",
    "        plt.xscale(\"log\")\n",
    "        plt.plot(range(1, epoch + 2), train_acc, label='Training Accuracy')\n",
    "        plt.plot(range(1, epoch + 2), val_acc, label='Validation Accuracy')\n",
    "        plt.xlabel('Epochs')\n",
    "        plt.ylabel('Accuracy')\n",
    "        plt.title('Training vs Validation Accuracy')\n",
    "        plt.legend()\n",
    "        plt.show()\n",
    "        '''"
   ]
  },
  {
   "cell_type": "code",
   "execution_count": null,
   "metadata": {},
   "outputs": [
    {
     "name": "stdout",
     "output_type": "stream",
     "text": [
      "Accuracy: 42.19%\n"
     ]
    }
   ],
   "source": [
    "#Evaluate\n",
    "model.eval()\n",
    "total = 0\n",
    "correct = 0\n",
    "one_hots = torch.eye(10, 10)\n",
    "with torch.no_grad():\n",
    "        for x, labels in test_loader:\n",
    "            x = x.to(device)\n",
    "            labels = labels.to(device)\n",
    "            y = model(x)\n",
    "            _, predicted = torch.max(y,1)\n",
    "            correct += (predicted == labels).sum().item()\n",
    "            total += labels.size(0)\n",
    "\n",
    "\n",
    "print(f'Accuracy: {100 * correct / total:.2f}%')"
   ]
  },
  {
   "cell_type": "code",
   "execution_count": null,
   "metadata": {},
   "outputs": [
    {
     "name": "stdout",
     "output_type": "stream",
     "text": [
      "Accuracy: 42.19%\n"
     ]
    },
    {
     "data": {
      "image/png": "[encoded data removed]",
      "text/plain": [
       "<Figure size 640x480 with 5 Axes>"
      ]
     },
     "metadata": {},
     "output_type": "display_data"
    }
   ],
   "source": [
    "import matplotlib.pyplot as plt\n",
    "\n",
    "# Evaluate the model\n",
    "model.eval()\n",
    "correct = 0\n",
    "total = 0\n",
    "one_hots = torch.eye(10, 10)\n",
    "\n",
    "with torch.no_grad():\n",
    "    for x, labels in test_loader:\n",
    "        x = x.to(device)\n",
    "        labels = labels.to(device)\n",
    "        y = model(x)\n",
    "        _, predicted = torch.max(y, 1)\n",
    "        correct += (predicted == labels).sum().item()\n",
    "        total += labels.size(0)\n",
    "\n",
    "accuracy = correct / total\n",
    "print(f'Accuracy: {100 * accuracy:.2f}%')\n",
    "\n",
    "# Display example predictions\n",
    "display_predictions(model, test_loader, num_images=5)\n"
   ]
  },
  {
   "cell_type": "code",
   "execution_count": null,
   "metadata": {},
   "outputs": [],
   "source": []
  }
 ],
 "metadata": {
  "kernelspec": {
   "display_name": ".venv",
   "language": "python",
   "name": "python3"
  },
  "language_info": {
   "codemirror_mode": {
    "name": "ipython",
    "version": 3
   },
   "file_extension": ".py",
   "mimetype": "text/x-python",
   "name": "python",
   "nbconvert_exporter": "python",
   "pygments_lexer": "ipython3",
   "version": "3.12.5"
  }
 },
 "nbformat": 4,
 "nbformat_minor": 2
}
